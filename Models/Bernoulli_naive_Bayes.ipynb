{
 "cells": [
  {
   "cell_type": "markdown",
   "metadata": {},
   "source": [
    "# <center>Bernoulli Naive Bayes\n",
    "   \n",
    "For the Bernoulli naive Bayes classifier, we let <b>X={0,1}.</b>\n",
    "\n",
    "Then, we let<b> p(X|Y)</b> be modeled as Bernoulli distribution:\n",
    "\n",
    "<b>p(X|Y)=θX(1−θ)1−X</b>\n",
    "\n",
    "We have to model a Bernoulli distribution for each class and each feature, so our terms look like:\n",
    "\n",
    "<b>p(Xj|Y=yk)=θXjkj(1−θkj)1−Xj</b>\n",
    "\n",
    "From this, we have <b>KP</b> parameters to esimate. Also, what about <b>p(Y)</b>? Well, the outcome can only be one of K outcomes. This is like rolling a die and is a generalization of the Bernoulli distribution. This distribution, is known as a categorical probability distribution (some refer to it as a multinoulli distribution). We can model this as a categorical probability:\n",
    "\n",
    "<b>p(Y=yk)=Cat(Y=yk|θ⃗ )=ΠKiθ[i=k]i=1</b>\n",
    "\n",
    "Above, I have used Iverson bracket notation. So that [i=k] is 1 when <b>i=k</b>, otherwise, it is 0.\n",
    "\n",
    "So now, we have <b>KP θs</b> parameters to estimate and<b> K−1</b> parameters to esimate for <b>P(Y).</b>\n",
    "\n"
   ]
  },
  {
   "cell_type": "markdown",
   "metadata": {},
   "source": [
    "### Python code is given below for Bernoulli naive Bayes model\n",
    "### >>Import various important libraries"
   ]
  },
  {
   "cell_type": "code",
   "execution_count": 1,
   "metadata": {},
   "outputs": [],
   "source": [
    "import pandas as pd\n",
    "from sklearn.naive_bayes import BernoulliNB\n",
    "from sklearn.model_selection import train_test_split\n",
    "from sklearn import metrics"
   ]
  },
  {
   "cell_type": "markdown",
   "metadata": {},
   "source": [
    "### >>Read csv file contains data"
   ]
  },
  {
   "cell_type": "code",
   "execution_count": 2,
   "metadata": {},
   "outputs": [],
   "source": [
    "df=pd.read_csv(\"new.csv\")"
   ]
  },
  {
   "cell_type": "markdown",
   "metadata": {},
   "source": [
    "### >>See data with head command to know whic columns present and typpe of data"
   ]
  },
  {
   "cell_type": "code",
   "execution_count": 3,
   "metadata": {},
   "outputs": [
    {
     "name": "stdout",
     "output_type": "stream",
     "text": [
      "    age  sex  chest  resting_blood_pressure  serum_cholestoral  \\\n",
      "0  70.0  1.0    4.0                   130.0              322.0   \n",
      "1  67.0  0.0    3.0                   115.0              564.0   \n",
      "2  57.0  1.0    2.0                   124.0              261.0   \n",
      "3  64.0  1.0    4.0                   128.0              263.0   \n",
      "4  74.0  0.0    2.0                   120.0              269.0   \n",
      "\n",
      "   fasting_blood_sugar  resting_electrocardiographic_results  \\\n",
      "0                  0.0                                   2.0   \n",
      "1                  0.0                                   2.0   \n",
      "2                  0.0                                   0.0   \n",
      "3                  0.0                                   0.0   \n",
      "4                  0.0                                   2.0   \n",
      "\n",
      "   maximum_heart_rate_achieved  exercise_induced_angina  oldpeak  slope  \\\n",
      "0                        109.0                      0.0      2.4    2.0   \n",
      "1                        160.0                      0.0      1.6    2.0   \n",
      "2                        141.0                      0.0      0.3    1.0   \n",
      "3                        105.0                      1.0      0.2    2.0   \n",
      "4                        121.0                      1.0      0.2    1.0   \n",
      "\n",
      "   number_of_major_vessels  thal  class  \n",
      "0                      3.0   3.0      1  \n",
      "1                      0.0   7.0      0  \n",
      "2                      0.0   7.0      1  \n",
      "3                      1.0   7.0      0  \n",
      "4                      1.0   3.0      0  \n"
     ]
    }
   ],
   "source": [
    "print(df.head())"
   ]
  },
  {
   "cell_type": "markdown",
   "metadata": {},
   "source": [
    "### >>After that take input features and target features in different variables"
   ]
  },
  {
   "cell_type": "code",
   "execution_count": 4,
   "metadata": {},
   "outputs": [],
   "source": [
    "x=df.iloc[:,3:13]\n",
    "y=df.iloc[:,13]\n"
   ]
  },
  {
   "cell_type": "markdown",
   "metadata": {},
   "source": [
    "### >>train and test data by train test split"
   ]
  },
  {
   "cell_type": "code",
   "execution_count": 5,
   "metadata": {},
   "outputs": [],
   "source": [
    "x_train,x_test,y_train,y_test=train_test_split(x,y,test_size=0.3)"
   ]
  },
  {
   "cell_type": "markdown",
   "metadata": {},
   "source": [
    "### >>Its time to fit data in Bernoulli naive Bayes model for getting predicted values"
   ]
  },
  {
   "cell_type": "code",
   "execution_count": 6,
   "metadata": {},
   "outputs": [
    {
     "name": "stdout",
     "output_type": "stream",
     "text": [
      "[0 0 0 0 1 0 1 0 1 0 1 0 0 0 0 0 1 1 0 1 0 1 0 0 0 1 0 1 0 0 1 1 0 1 0 1 1\n",
      " 0 1 0 1 0 0 0 0 1 1 0 0 0 0 1 0 1 1 0 0 1 1 0 1 1 1 1 1 1 1 1 0 0 1 0 0 0\n",
      " 1 0 0 1 0 1 0]\n"
     ]
    }
   ],
   "source": [
    "model=BernoulliNB(binarize=0.0)\n",
    "model.fit(x_train,y_train)\n",
    "y_pred=model.predict(x_test)\n",
    "print(y_pred)"
   ]
  },
  {
   "cell_type": "markdown",
   "metadata": {},
   "source": [
    "### >>After getting predicted values,accuracy of model can be measure like this"
   ]
  },
  {
   "cell_type": "code",
   "execution_count": 7,
   "metadata": {},
   "outputs": [
    {
     "name": "stdout",
     "output_type": "stream",
     "text": [
      "Accuracy of model:: 0.7160493827160493\n"
     ]
    }
   ],
   "source": [
    "print(\"Accuracy of model::\",metrics.accuracy_score(y_test,y_pred))"
   ]
  },
  {
   "cell_type": "markdown",
   "metadata": {},
   "source": [
    "## Research Infinite Solutions LLP\n",
    "\n",
    "by [Research Infinite Solutions](http://www.researchinfinitesolutions.com/)\n",
    "\n",
    "Permission is hereby granted, free of charge, to any person obtaining a copy of this software and associated documentation files (the \"Software\"), to deal in the Software without restriction, including without limitation the rights to use, copy, modify, merge, publish, distribute, sublicense, and/or sell copies of the Software, and to permit persons to whom the Software is furnished to do so, subject to the following conditions:\n",
    "\n",
    "The above copyright notice and this permission notice shall be included in all copies or substantial portions of the Software.\n",
    "\n",
    "THE SOFTWARE IS PROVIDED \"AS IS\", WITHOUT WARRANTY OF ANY KIND, EXPRESS OR IMPLIED, INCLUDING BUT NOT LIMITED TO THE WARRANTIES OF MERCHANTABILITY, FITNESS FOR A PARTICULAR PURPOSE AND NONINFRINGEMENT. IN NO EVENT SHALL THE AUTHORS OR COPYRIGHT HOLDERS BE LIABLE FOR ANY CLAIM, DAMAGES OR OTHER LIABILITY, WHETHER IN AN ACTION OF CONTRACT, TORT OR OTHERWISE, ARISING FROM, OUT OF OR IN CONNECTION WITH THE SOFTWARE OR THE USE OR OTHER DEALINGS IN THE SOFTWARE."
   ]
  },
  {
   "cell_type": "code",
   "execution_count": null,
   "metadata": {},
   "outputs": [],
   "source": []
  }
 ],
 "metadata": {
  "kernelspec": {
   "display_name": "Python 3",
   "language": "python",
   "name": "python3"
  },
  "language_info": {
   "codemirror_mode": {
    "name": "ipython",
    "version": 3
   },
   "file_extension": ".py",
   "mimetype": "text/x-python",
   "name": "python",
   "nbconvert_exporter": "python",
   "pygments_lexer": "ipython3",
   "version": "3.5.2"
  }
 },
 "nbformat": 4,
 "nbformat_minor": 2
}
