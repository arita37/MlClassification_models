{
 "cells": [
  {
   "cell_type": "markdown",
   "metadata": {},
   "source": [
    "# <center>Quadratic Discriminant Analysis\n",
    "Quadratic Discriminant Analysis is another machine learning classification technique. Like, LDA, it seeks to estimate some coefficients, plug those coefficients into an equation as means of making predictions. LDA and QDA are actually quite similar. Both assume that the k classes can be drawn from Gaussian Distributions. QDA, again like LDA, uses Baye’s Theorem to estimate the parameters of the equation. The equation for QDA is below:\n",
    "      ![QDA-1-300x40](https://user-images.githubusercontent.com/10881750/57354256-ab017080-7188-11e9-9b11-f7aea02afae3.png)\n",
    "    So we can see that our QDA equation looks somewhat similar to that of our LDA equation, except that in LDA we estimate μk, πk and σ2, but in QDA we estimate μk, πk, and ∑k.\n",
    "\n",
    "\n",
    "![sphx_glr_plot_lda_qda_001](https://user-images.githubusercontent.com/10881750/57354066-139c1d80-7188-11e9-96cd-9c13adb9e67e.png)\n"
   ]
  },
  {
   "cell_type": "markdown",
   "metadata": {},
   "source": [
    "### Python code is given below for QDA model\n",
    "### >>Import various important libraries"
   ]
  },
  {
   "cell_type": "code",
   "execution_count": 12,
   "metadata": {},
   "outputs": [],
   "source": [
    "import pandas as pd\n",
    "from sklearn.discriminant_analysis import QuadraticDiscriminantAnalysis\n",
    "from sklearn.model_selection import train_test_split\n",
    "from sklearn import metrics"
   ]
  },
  {
   "cell_type": "markdown",
   "metadata": {},
   "source": [
    "### >>Read csv file contains data"
   ]
  },
  {
   "cell_type": "code",
   "execution_count": 2,
   "metadata": {},
   "outputs": [],
   "source": [
    "df=pd.read_csv(\"new.csv\")"
   ]
  },
  {
   "cell_type": "markdown",
   "metadata": {},
   "source": [
    "### >>See data with head command to know whic columns present and typpe of data"
   ]
  },
  {
   "cell_type": "code",
   "execution_count": 13,
   "metadata": {},
   "outputs": [
    {
     "name": "stdout",
     "output_type": "stream",
     "text": [
      "    age  sex  chest  resting_blood_pressure  serum_cholestoral  \\\n",
      "0  70.0  1.0    4.0                   130.0              322.0   \n",
      "1  67.0  0.0    3.0                   115.0              564.0   \n",
      "2  57.0  1.0    2.0                   124.0              261.0   \n",
      "3  64.0  1.0    4.0                   128.0              263.0   \n",
      "4  74.0  0.0    2.0                   120.0              269.0   \n",
      "\n",
      "   fasting_blood_sugar  resting_electrocardiographic_results  \\\n",
      "0                  0.0                                   2.0   \n",
      "1                  0.0                                   2.0   \n",
      "2                  0.0                                   0.0   \n",
      "3                  0.0                                   0.0   \n",
      "4                  0.0                                   2.0   \n",
      "\n",
      "   maximum_heart_rate_achieved  exercise_induced_angina  oldpeak  slope  \\\n",
      "0                        109.0                      0.0      2.4    2.0   \n",
      "1                        160.0                      0.0      1.6    2.0   \n",
      "2                        141.0                      0.0      0.3    1.0   \n",
      "3                        105.0                      1.0      0.2    2.0   \n",
      "4                        121.0                      1.0      0.2    1.0   \n",
      "\n",
      "   number_of_major_vessels  thal  class  \n",
      "0                      3.0   3.0      1  \n",
      "1                      0.0   7.0      0  \n",
      "2                      0.0   7.0      1  \n",
      "3                      1.0   7.0      0  \n",
      "4                      1.0   3.0      0  \n"
     ]
    }
   ],
   "source": [
    "print(df.head())"
   ]
  },
  {
   "cell_type": "markdown",
   "metadata": {},
   "source": [
    "### >>After that take input features and target features in different variables"
   ]
  },
  {
   "cell_type": "code",
   "execution_count": 5,
   "metadata": {},
   "outputs": [],
   "source": [
    "x=df.iloc[:,3:13]\n",
    "y=df.iloc[:,13]\n"
   ]
  },
  {
   "cell_type": "markdown",
   "metadata": {},
   "source": [
    "### >>train and test data by train test split"
   ]
  },
  {
   "cell_type": "code",
   "execution_count": 6,
   "metadata": {},
   "outputs": [],
   "source": [
    "x_train,x_test,y_train,y_test=train_test_split(x,y,test_size=0.3)"
   ]
  },
  {
   "cell_type": "markdown",
   "metadata": {},
   "source": [
    "### >>Its time to fit data in QDA model for getting predicted values"
   ]
  },
  {
   "cell_type": "code",
   "execution_count": 7,
   "metadata": {},
   "outputs": [
    {
     "name": "stdout",
     "output_type": "stream",
     "text": [
      "[0 0 0 0 1 0 0 1 1 1 0 1 0 1 1 1 0 1 0 0 1 1 1 0 0 0 0 1 0 0 1 0 0 1 0 0 0\n",
      " 0 0 0 1 0 1 0 0 1 1 1 1 0 1 0 0 1 1 1 1 0 0 0 0 1 0 1 0 0 1 0 1 0 0 0 0 0\n",
      " 0 0 1 1 1 0 0]\n"
     ]
    }
   ],
   "source": [
    "model=QuadraticDiscriminantAnalysis()\n",
    "model.fit(x_train,y_train)\n",
    "y_pred=model.predict(x_test)\n",
    "print(y_pred)"
   ]
  },
  {
   "cell_type": "markdown",
   "metadata": {},
   "source": [
    "### >>After getting predicted values,accuracy of model can be measure like this"
   ]
  },
  {
   "cell_type": "code",
   "execution_count": 11,
   "metadata": {},
   "outputs": [
    {
     "name": "stdout",
     "output_type": "stream",
     "text": [
      "Accuracy of model:: 0.8148148148148148\n"
     ]
    }
   ],
   "source": [
    "print(\"Accuracy of model::\",metrics.accuracy_score(y_test,y_pred))"
   ]
  },
  {
   "cell_type": "markdown",
   "metadata": {},
   "source": [
    "## Research Infinite Solutions LLP\n",
    "\n",
    "by [Research Infinite Solutions](http://www.researchinfinitesolutions.com/)\n",
    "\n",
    "Permission is hereby granted, free of charge, to any person obtaining a copy of this software and associated documentation files (the \"Software\"), to deal in the Software without restriction, including without limitation the rights to use, copy, modify, merge, publish, distribute, sublicense, and/or sell copies of the Software, and to permit persons to whom the Software is furnished to do so, subject to the following conditions:\n",
    "\n",
    "The above copyright notice and this permission notice shall be included in all copies or substantial portions of the Software.\n",
    "\n",
    "THE SOFTWARE IS PROVIDED \"AS IS\", WITHOUT WARRANTY OF ANY KIND, EXPRESS OR IMPLIED, INCLUDING BUT NOT LIMITED TO THE WARRANTIES OF MERCHANTABILITY, FITNESS FOR A PARTICULAR PURPOSE AND NONINFRINGEMENT. IN NO EVENT SHALL THE AUTHORS OR COPYRIGHT HOLDERS BE LIABLE FOR ANY CLAIM, DAMAGES OR OTHER LIABILITY, WHETHER IN AN ACTION OF CONTRACT, TORT OR OTHERWISE, ARISING FROM, OUT OF OR IN CONNECTION WITH THE SOFTWARE OR THE USE OR OTHER DEALINGS IN THE SOFTWARE."
   ]
  }
 ],
 "metadata": {
  "kernelspec": {
   "display_name": "Python 3",
   "language": "python",
   "name": "python3"
  },
  "language_info": {
   "codemirror_mode": {
    "name": "ipython",
    "version": 3
   },
   "file_extension": ".py",
   "mimetype": "text/x-python",
   "name": "python",
   "nbconvert_exporter": "python",
   "pygments_lexer": "ipython3",
   "version": "3.5.2"
  }
 },
 "nbformat": 4,
 "nbformat_minor": 2
}
