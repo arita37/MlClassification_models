{
 "cells": [
  {
   "cell_type": "markdown",
   "metadata": {},
   "source": [
    "# Naive Bayes Classifiers\n",
    "Naive Bayes classifiers are a collection of classification algorithms based on Bayes’ Theorem. It is not a single algorithm but a family of algorithms where all of them share a common principle, i.e. every pair of features being classified is independent of each other.\n",
    "## Bayes Theorem:\n",
    "Bayes’ Theorem finds the probability of an event occurring given the probability of another event that has already occurred. \n",
    "\n",
    "Consider an example here that heartdisease is present(1) or absent(0) depend upon the different blood test and body test.implementation is given below on this type of data"
   ]
  },
  {
   "cell_type": "markdown",
   "metadata": {},
   "source": [
    "### >>Firstly import different useful libararies"
   ]
  },
  {
   "cell_type": "code",
   "execution_count": 10,
   "metadata": {},
   "outputs": [],
   "source": [
    "import pandas as pd\n",
    "from sklearn import metrics\n",
    "from sklearn.naive_bayes import GaussianNB\n",
    "from sklearn.model_selection import train_test_split"
   ]
  },
  {
   "cell_type": "markdown",
   "metadata": {},
   "source": [
    "### >>Read csv file which have data"
   ]
  },
  {
   "cell_type": "code",
   "execution_count": 11,
   "metadata": {},
   "outputs": [
    {
     "name": "stdout",
     "output_type": "stream",
     "text": [
      "    age  sex  chest  resting_blood_pressure  serum_cholestoral  \\\n",
      "0  70.0  1.0    4.0                   130.0              322.0   \n",
      "1  67.0  0.0    3.0                   115.0              564.0   \n",
      "2  57.0  1.0    2.0                   124.0              261.0   \n",
      "3  64.0  1.0    4.0                   128.0              263.0   \n",
      "4  74.0  0.0    2.0                   120.0              269.0   \n",
      "\n",
      "   fasting_blood_sugar  resting_electrocardiographic_results  \\\n",
      "0                  0.0                                   2.0   \n",
      "1                  0.0                                   2.0   \n",
      "2                  0.0                                   0.0   \n",
      "3                  0.0                                   0.0   \n",
      "4                  0.0                                   2.0   \n",
      "\n",
      "   maximum_heart_rate_achieved  exercise_induced_angina  oldpeak  slope  \\\n",
      "0                        109.0                      0.0      2.4    2.0   \n",
      "1                        160.0                      0.0      1.6    2.0   \n",
      "2                        141.0                      0.0      0.3    1.0   \n",
      "3                        105.0                      1.0      0.2    2.0   \n",
      "4                        121.0                      1.0      0.2    1.0   \n",
      "\n",
      "   number_of_major_vessels  thal  class  \n",
      "0                      3.0   3.0      1  \n",
      "1                      0.0   7.0      0  \n",
      "2                      0.0   7.0      1  \n",
      "3                      1.0   7.0      0  \n",
      "4                      1.0   3.0      0  \n"
     ]
    }
   ],
   "source": [
    "df=pd.read_csv(\"new.csv\")\n",
    "print(df.head())"
   ]
  },
  {
   "cell_type": "markdown",
   "metadata": {},
   "source": [
    "### >>Store the feature in x and target in y"
   ]
  },
  {
   "cell_type": "code",
   "execution_count": 12,
   "metadata": {},
   "outputs": [],
   "source": [
    "#input features\n",
    "x=df.iloc[:,3:13] \n",
    "#target feature\n",
    "y=df.iloc[:,-1]"
   ]
  },
  {
   "cell_type": "markdown",
   "metadata": {},
   "source": [
    "### >> Make training and testing  sets of data with train_test_split"
   ]
  },
  {
   "cell_type": "code",
   "execution_count": 13,
   "metadata": {},
   "outputs": [],
   "source": [
    "#70% training data and 30% testing data\n",
    "x_train,x_test,y_train,y_test=train_test_split(x,y,test_size=0.3)"
   ]
  },
  {
   "cell_type": "markdown",
   "metadata": {},
   "source": [
    "### >>Fit train data in Gaussian Naive Bayes model and do prediction by test data"
   ]
  },
  {
   "cell_type": "code",
   "execution_count": 14,
   "metadata": {},
   "outputs": [
    {
     "name": "stdout",
     "output_type": "stream",
     "text": [
      "[0 1 1 1 0 1 0 0 1 1 0 1 1 1 0 0 0 0 1 1 0 1 0 1 0 1 0 1 1 0 0 0 1 1 0 1 0\n",
      " 1 1 0 1 0 0 0 1 0 0 1 1 0 1 1 1 0 1 0 0 0 0 0 1 0 0 1 1 1 1 0 0 0 0 0 0 0\n",
      " 1 1 0 0 0 1 0]\n"
     ]
    }
   ],
   "source": [
    "#implement Gaussian naive bayes on data\n",
    "output=GaussianNB()\n",
    "output.fit(x_train,y_train)\n",
    "pred=output.predict(x_test)\n",
    "print(pred)\n",
    "\n",
    "\n"
   ]
  },
  {
   "cell_type": "markdown",
   "metadata": {},
   "source": [
    "### >>After taking prediction values.Accuracy of model  can be measured like below"
   ]
  },
  {
   "cell_type": "code",
   "execution_count": 15,
   "metadata": {},
   "outputs": [
    {
     "name": "stdout",
     "output_type": "stream",
     "text": [
      "Naive Bayes model accuracy: 0.8641975308641975\n"
     ]
    }
   ],
   "source": [
    "#finding accuracy\n",
    "print(\"Naive Bayes model accuracy:\", metrics.accuracy_score(y_test, pred))"
   ]
  },
  {
   "cell_type": "markdown",
   "metadata": {},
   "source": [
    "This is the concept of naive bayes classifier and implementation of model.hope you like it."
   ]
  },
  {
   "cell_type": "markdown",
   "metadata": {},
   "source": [
    "## Research Infinite Solutions LLP\n",
    "\n",
    "by [Research Infinite Solutions](http://www.researchinfinitesolutions.com/)\n",
    "\n",
    "Permission is hereby granted, free of charge, to any person obtaining a copy of this software and associated documentation files (the \"Software\"), to deal in the Software without restriction, including without limitation the rights to use, copy, modify, merge, publish, distribute, sublicense, and/or sell copies of the Software, and to permit persons to whom the Software is furnished to do so, subject to the following conditions:\n",
    "\n",
    "The above copyright notice and this permission notice shall be included in all copies or substantial portions of the Software.\n",
    "\n",
    "THE SOFTWARE IS PROVIDED \"AS IS\", WITHOUT WARRANTY OF ANY KIND, EXPRESS OR IMPLIED, INCLUDING BUT NOT LIMITED TO THE WARRANTIES OF MERCHANTABILITY, FITNESS FOR A PARTICULAR PURPOSE AND NONINFRINGEMENT. IN NO EVENT SHALL THE AUTHORS OR COPYRIGHT HOLDERS BE LIABLE FOR ANY CLAIM, DAMAGES OR OTHER LIABILITY, WHETHER IN AN ACTION OF CONTRACT, TORT OR OTHERWISE, ARISING FROM, OUT OF OR IN CONNECTION WITH THE SOFTWARE OR THE USE OR OTHER DEALINGS IN THE SOFTWARE."
   ]
  }
 ],
 "metadata": {
  "kernelspec": {
   "display_name": "Python 3",
   "language": "python",
   "name": "python3"
  },
  "language_info": {
   "codemirror_mode": {
    "name": "ipython",
    "version": 3
   },
   "file_extension": ".py",
   "mimetype": "text/x-python",
   "name": "python",
   "nbconvert_exporter": "python",
   "pygments_lexer": "ipython3",
   "version": "3.5.2"
  }
 },
 "nbformat": 4,
 "nbformat_minor": 2
}
